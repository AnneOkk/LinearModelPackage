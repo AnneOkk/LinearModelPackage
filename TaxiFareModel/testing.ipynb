{
 "cells": [
  {
   "cell_type": "code",
   "execution_count": 1,
   "id": "5907048f-fa25-458e-81af-f3af75cf925b",
   "metadata": {},
   "outputs": [],
   "source": [
    "from trainer import *"
   ]
  },
  {
   "cell_type": "code",
   "execution_count": 9,
   "id": "c31f79ad-83eb-4929-b112-4ebe8f0c3b7b",
   "metadata": {},
   "outputs": [
    {
     "name": "stdout",
     "output_type": "stream",
     "text": [
      "optimized size by 38.0 % | 3.7665e-05 GB\n",
      "rmse: 4.78\n",
      "\u001b[32mmodel.joblib saved locally\u001b[0m\n",
      "uploaded model.joblib to gcp cloud storage under \n",
      " => models/taxifaremodel/model.joblib\n",
      "\u001b[32m=> model.joblib uploaded to bucket le-wagon-data inside models/taxi_fare_model/models/taxifaremodel/model.joblib/model.joblib\u001b[0m\n",
      "CPU times: user 339 ms, sys: 25.9 ms, total: 365 ms\n",
      "Wall time: 1.35 s\n"
     ]
    }
   ],
   "source": [
    "%%time\n",
    "N = 10000\n",
    "df = get_data(nrows=N)\n",
    "df = clean_data(df)\n",
    "df = df_optimized(df)\n",
    "y = df[\"fare_amount\"]\n",
    "X = df.drop(\"fare_amount\", axis=1)\n",
    "X_train, X_test, y_train, y_test = train_test_split(X, y, test_size=0.3)\n",
    "# Train and save model, locally and\n",
    "trainer = Trainer(X=X_train, y=y_train, n_jobs=-1)\n",
    "trainer.set_experiment_name(EXPERIMENT_NAME)\n",
    "trainer.run()\n",
    "rmse = trainer.evaluate(X_test, y_test)\n",
    "print(f\"rmse: {rmse}\")\n",
    "trainer.save_model()\n",
    "storage_upload(STORAGE_LOCATION, bucket=BUCKET_NAME, rm=False)"
   ]
  },
  {
   "cell_type": "code",
   "execution_count": null,
   "id": "3c4353e7-337e-49e8-870f-9f627f3a5be1",
   "metadata": {},
   "outputs": [],
   "source": []
  }
 ],
 "metadata": {
  "kernelspec": {
   "display_name": "Python 3 (ipykernel)",
   "language": "python",
   "name": "python3"
  },
  "language_info": {
   "codemirror_mode": {
    "name": "ipython",
    "version": 3
   },
   "file_extension": ".py",
   "mimetype": "text/x-python",
   "name": "python",
   "nbconvert_exporter": "python",
   "pygments_lexer": "ipython3",
   "version": "3.8.12"
  }
 },
 "nbformat": 4,
 "nbformat_minor": 5
}
